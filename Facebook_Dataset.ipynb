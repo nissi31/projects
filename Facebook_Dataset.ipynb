{
  "nbformat": 4,
  "nbformat_minor": 0,
  "metadata": {
    "colab": {
      "provenance": []
    },
    "kernelspec": {
      "name": "python3",
      "display_name": "Python 3"
    },
    "language_info": {
      "name": "python"
    }
  },
  "cells": [
    {
      "cell_type": "markdown",
      "source": [
        "#Importing Libraries"
      ],
      "metadata": {
        "id": "OWlRs6R43IR6"
      }
    },
    {
      "cell_type": "code",
      "source": [
        "import numpy as np\n",
        "import pandas as pd\n",
        "import matplotlib.pyplot as plt\n",
        "from sklearn.cluster import KMeans"
      ],
      "metadata": {
        "id": "Mzu3TbB03NTu"
      },
      "execution_count": 3,
      "outputs": []
    },
    {
      "cell_type": "markdown",
      "source": [
        "# Importing dataset"
      ],
      "metadata": {
        "id": "ZSsXR-Ly3WvE"
      }
    },
    {
      "cell_type": "code",
      "source": [
        "df=pd.read_csv('Facebook_Marketplace_data.csv')"
      ],
      "metadata": {
        "id": "y5w-oGTe3ZBM"
      },
      "execution_count": 4,
      "outputs": []
    },
    {
      "cell_type": "markdown",
      "source": [
        "# Correlation between various metrics"
      ],
      "metadata": {
        "id": "T_PHEd-A2-EW"
      }
    },
    {
      "cell_type": "code",
      "execution_count": 5,
      "metadata": {
        "colab": {
          "base_uri": "https://localhost:8080/",
          "height": 331
        },
        "id": "XqmZi6Sx269-",
        "outputId": "c16fc78c-0f0d-4c8d-e06e-565afbf64fbb"
      },
      "outputs": [
        {
          "output_type": "execute_result",
          "data": {
            "text/plain": [
              "               num_reactions  num_comments  num_shares  num_likes  num_loves  \\\n",
              "num_reactions       1.000000      0.150843    0.250723   0.994923   0.305003   \n",
              "num_comments        0.150843      1.000000    0.640637   0.101687   0.521223   \n",
              "num_shares          0.250723      0.640637    1.000000   0.172492   0.820000   \n",
              "num_likes           0.994923      0.101687    0.172492   1.000000   0.209308   \n",
              "num_loves           0.305003      0.521223    0.820000   0.209308   1.000000   \n",
              "num_wows            0.267752      0.162394    0.407628   0.207800   0.508798   \n",
              "num_hahas           0.176028      0.325048    0.399826   0.120784   0.507830   \n",
              "num_sads            0.075138      0.236453    0.199970   0.052169   0.207600   \n",
              "num_angrys          0.124326      0.225184    0.312513   0.087431   0.371001   \n",
              "\n",
              "               num_wows  num_hahas  num_sads  num_angrys  \n",
              "num_reactions  0.267752   0.176028  0.075138    0.124326  \n",
              "num_comments   0.162394   0.325048  0.236453    0.225184  \n",
              "num_shares     0.407628   0.399826  0.199970    0.312513  \n",
              "num_likes      0.207800   0.120784  0.052169    0.087431  \n",
              "num_loves      0.508798   0.507830  0.207600    0.371001  \n",
              "num_wows       1.000000   0.287756  0.086503    0.183087  \n",
              "num_hahas      0.287756   1.000000  0.141421    0.211910  \n",
              "num_sads       0.086503   0.141421  1.000000    0.142072  \n",
              "num_angrys     0.183087   0.211910  0.142072    1.000000  "
            ],
            "text/html": [
              "\n",
              "  <div id=\"df-228da295-6aa0-4a8c-a9f9-47b6e9d57890\" class=\"colab-df-container\">\n",
              "    <div>\n",
              "<style scoped>\n",
              "    .dataframe tbody tr th:only-of-type {\n",
              "        vertical-align: middle;\n",
              "    }\n",
              "\n",
              "    .dataframe tbody tr th {\n",
              "        vertical-align: top;\n",
              "    }\n",
              "\n",
              "    .dataframe thead th {\n",
              "        text-align: right;\n",
              "    }\n",
              "</style>\n",
              "<table border=\"1\" class=\"dataframe\">\n",
              "  <thead>\n",
              "    <tr style=\"text-align: right;\">\n",
              "      <th></th>\n",
              "      <th>num_reactions</th>\n",
              "      <th>num_comments</th>\n",
              "      <th>num_shares</th>\n",
              "      <th>num_likes</th>\n",
              "      <th>num_loves</th>\n",
              "      <th>num_wows</th>\n",
              "      <th>num_hahas</th>\n",
              "      <th>num_sads</th>\n",
              "      <th>num_angrys</th>\n",
              "    </tr>\n",
              "  </thead>\n",
              "  <tbody>\n",
              "    <tr>\n",
              "      <th>num_reactions</th>\n",
              "      <td>1.000000</td>\n",
              "      <td>0.150843</td>\n",
              "      <td>0.250723</td>\n",
              "      <td>0.994923</td>\n",
              "      <td>0.305003</td>\n",
              "      <td>0.267752</td>\n",
              "      <td>0.176028</td>\n",
              "      <td>0.075138</td>\n",
              "      <td>0.124326</td>\n",
              "    </tr>\n",
              "    <tr>\n",
              "      <th>num_comments</th>\n",
              "      <td>0.150843</td>\n",
              "      <td>1.000000</td>\n",
              "      <td>0.640637</td>\n",
              "      <td>0.101687</td>\n",
              "      <td>0.521223</td>\n",
              "      <td>0.162394</td>\n",
              "      <td>0.325048</td>\n",
              "      <td>0.236453</td>\n",
              "      <td>0.225184</td>\n",
              "    </tr>\n",
              "    <tr>\n",
              "      <th>num_shares</th>\n",
              "      <td>0.250723</td>\n",
              "      <td>0.640637</td>\n",
              "      <td>1.000000</td>\n",
              "      <td>0.172492</td>\n",
              "      <td>0.820000</td>\n",
              "      <td>0.407628</td>\n",
              "      <td>0.399826</td>\n",
              "      <td>0.199970</td>\n",
              "      <td>0.312513</td>\n",
              "    </tr>\n",
              "    <tr>\n",
              "      <th>num_likes</th>\n",
              "      <td>0.994923</td>\n",
              "      <td>0.101687</td>\n",
              "      <td>0.172492</td>\n",
              "      <td>1.000000</td>\n",
              "      <td>0.209308</td>\n",
              "      <td>0.207800</td>\n",
              "      <td>0.120784</td>\n",
              "      <td>0.052169</td>\n",
              "      <td>0.087431</td>\n",
              "    </tr>\n",
              "    <tr>\n",
              "      <th>num_loves</th>\n",
              "      <td>0.305003</td>\n",
              "      <td>0.521223</td>\n",
              "      <td>0.820000</td>\n",
              "      <td>0.209308</td>\n",
              "      <td>1.000000</td>\n",
              "      <td>0.508798</td>\n",
              "      <td>0.507830</td>\n",
              "      <td>0.207600</td>\n",
              "      <td>0.371001</td>\n",
              "    </tr>\n",
              "    <tr>\n",
              "      <th>num_wows</th>\n",
              "      <td>0.267752</td>\n",
              "      <td>0.162394</td>\n",
              "      <td>0.407628</td>\n",
              "      <td>0.207800</td>\n",
              "      <td>0.508798</td>\n",
              "      <td>1.000000</td>\n",
              "      <td>0.287756</td>\n",
              "      <td>0.086503</td>\n",
              "      <td>0.183087</td>\n",
              "    </tr>\n",
              "    <tr>\n",
              "      <th>num_hahas</th>\n",
              "      <td>0.176028</td>\n",
              "      <td>0.325048</td>\n",
              "      <td>0.399826</td>\n",
              "      <td>0.120784</td>\n",
              "      <td>0.507830</td>\n",
              "      <td>0.287756</td>\n",
              "      <td>1.000000</td>\n",
              "      <td>0.141421</td>\n",
              "      <td>0.211910</td>\n",
              "    </tr>\n",
              "    <tr>\n",
              "      <th>num_sads</th>\n",
              "      <td>0.075138</td>\n",
              "      <td>0.236453</td>\n",
              "      <td>0.199970</td>\n",
              "      <td>0.052169</td>\n",
              "      <td>0.207600</td>\n",
              "      <td>0.086503</td>\n",
              "      <td>0.141421</td>\n",
              "      <td>1.000000</td>\n",
              "      <td>0.142072</td>\n",
              "    </tr>\n",
              "    <tr>\n",
              "      <th>num_angrys</th>\n",
              "      <td>0.124326</td>\n",
              "      <td>0.225184</td>\n",
              "      <td>0.312513</td>\n",
              "      <td>0.087431</td>\n",
              "      <td>0.371001</td>\n",
              "      <td>0.183087</td>\n",
              "      <td>0.211910</td>\n",
              "      <td>0.142072</td>\n",
              "      <td>1.000000</td>\n",
              "    </tr>\n",
              "  </tbody>\n",
              "</table>\n",
              "</div>\n",
              "    <div class=\"colab-df-buttons\">\n",
              "\n",
              "  <div class=\"colab-df-container\">\n",
              "    <button class=\"colab-df-convert\" onclick=\"convertToInteractive('df-228da295-6aa0-4a8c-a9f9-47b6e9d57890')\"\n",
              "            title=\"Convert this dataframe to an interactive table.\"\n",
              "            style=\"display:none;\">\n",
              "\n",
              "  <svg xmlns=\"http://www.w3.org/2000/svg\" height=\"24px\" viewBox=\"0 -960 960 960\">\n",
              "    <path d=\"M120-120v-720h720v720H120Zm60-500h600v-160H180v160Zm220 220h160v-160H400v160Zm0 220h160v-160H400v160ZM180-400h160v-160H180v160Zm440 0h160v-160H620v160ZM180-180h160v-160H180v160Zm440 0h160v-160H620v160Z\"/>\n",
              "  </svg>\n",
              "    </button>\n",
              "\n",
              "  <style>\n",
              "    .colab-df-container {\n",
              "      display:flex;\n",
              "      gap: 12px;\n",
              "    }\n",
              "\n",
              "    .colab-df-convert {\n",
              "      background-color: #E8F0FE;\n",
              "      border: none;\n",
              "      border-radius: 50%;\n",
              "      cursor: pointer;\n",
              "      display: none;\n",
              "      fill: #1967D2;\n",
              "      height: 32px;\n",
              "      padding: 0 0 0 0;\n",
              "      width: 32px;\n",
              "    }\n",
              "\n",
              "    .colab-df-convert:hover {\n",
              "      background-color: #E2EBFA;\n",
              "      box-shadow: 0px 1px 2px rgba(60, 64, 67, 0.3), 0px 1px 3px 1px rgba(60, 64, 67, 0.15);\n",
              "      fill: #174EA6;\n",
              "    }\n",
              "\n",
              "    .colab-df-buttons div {\n",
              "      margin-bottom: 4px;\n",
              "    }\n",
              "\n",
              "    [theme=dark] .colab-df-convert {\n",
              "      background-color: #3B4455;\n",
              "      fill: #D2E3FC;\n",
              "    }\n",
              "\n",
              "    [theme=dark] .colab-df-convert:hover {\n",
              "      background-color: #434B5C;\n",
              "      box-shadow: 0px 1px 3px 1px rgba(0, 0, 0, 0.15);\n",
              "      filter: drop-shadow(0px 1px 2px rgba(0, 0, 0, 0.3));\n",
              "      fill: #FFFFFF;\n",
              "    }\n",
              "  </style>\n",
              "\n",
              "    <script>\n",
              "      const buttonEl =\n",
              "        document.querySelector('#df-228da295-6aa0-4a8c-a9f9-47b6e9d57890 button.colab-df-convert');\n",
              "      buttonEl.style.display =\n",
              "        google.colab.kernel.accessAllowed ? 'block' : 'none';\n",
              "\n",
              "      async function convertToInteractive(key) {\n",
              "        const element = document.querySelector('#df-228da295-6aa0-4a8c-a9f9-47b6e9d57890');\n",
              "        const dataTable =\n",
              "          await google.colab.kernel.invokeFunction('convertToInteractive',\n",
              "                                                    [key], {});\n",
              "        if (!dataTable) return;\n",
              "\n",
              "        const docLinkHtml = 'Like what you see? Visit the ' +\n",
              "          '<a target=\"_blank\" href=https://colab.research.google.com/notebooks/data_table.ipynb>data table notebook</a>'\n",
              "          + ' to learn more about interactive tables.';\n",
              "        element.innerHTML = '';\n",
              "        dataTable['output_type'] = 'display_data';\n",
              "        await google.colab.output.renderOutput(dataTable, element);\n",
              "        const docLink = document.createElement('div');\n",
              "        docLink.innerHTML = docLinkHtml;\n",
              "        element.appendChild(docLink);\n",
              "      }\n",
              "    </script>\n",
              "  </div>\n",
              "\n",
              "\n",
              "<div id=\"df-86abe3cb-e3f5-43a3-b108-c22158151847\">\n",
              "  <button class=\"colab-df-quickchart\" onclick=\"quickchart('df-86abe3cb-e3f5-43a3-b108-c22158151847')\"\n",
              "            title=\"Suggest charts\"\n",
              "            style=\"display:none;\">\n",
              "\n",
              "<svg xmlns=\"http://www.w3.org/2000/svg\" height=\"24px\"viewBox=\"0 0 24 24\"\n",
              "     width=\"24px\">\n",
              "    <g>\n",
              "        <path d=\"M19 3H5c-1.1 0-2 .9-2 2v14c0 1.1.9 2 2 2h14c1.1 0 2-.9 2-2V5c0-1.1-.9-2-2-2zM9 17H7v-7h2v7zm4 0h-2V7h2v10zm4 0h-2v-4h2v4z\"/>\n",
              "    </g>\n",
              "</svg>\n",
              "  </button>\n",
              "\n",
              "<style>\n",
              "  .colab-df-quickchart {\n",
              "      --bg-color: #E8F0FE;\n",
              "      --fill-color: #1967D2;\n",
              "      --hover-bg-color: #E2EBFA;\n",
              "      --hover-fill-color: #174EA6;\n",
              "      --disabled-fill-color: #AAA;\n",
              "      --disabled-bg-color: #DDD;\n",
              "  }\n",
              "\n",
              "  [theme=dark] .colab-df-quickchart {\n",
              "      --bg-color: #3B4455;\n",
              "      --fill-color: #D2E3FC;\n",
              "      --hover-bg-color: #434B5C;\n",
              "      --hover-fill-color: #FFFFFF;\n",
              "      --disabled-bg-color: #3B4455;\n",
              "      --disabled-fill-color: #666;\n",
              "  }\n",
              "\n",
              "  .colab-df-quickchart {\n",
              "    background-color: var(--bg-color);\n",
              "    border: none;\n",
              "    border-radius: 50%;\n",
              "    cursor: pointer;\n",
              "    display: none;\n",
              "    fill: var(--fill-color);\n",
              "    height: 32px;\n",
              "    padding: 0;\n",
              "    width: 32px;\n",
              "  }\n",
              "\n",
              "  .colab-df-quickchart:hover {\n",
              "    background-color: var(--hover-bg-color);\n",
              "    box-shadow: 0 1px 2px rgba(60, 64, 67, 0.3), 0 1px 3px 1px rgba(60, 64, 67, 0.15);\n",
              "    fill: var(--button-hover-fill-color);\n",
              "  }\n",
              "\n",
              "  .colab-df-quickchart-complete:disabled,\n",
              "  .colab-df-quickchart-complete:disabled:hover {\n",
              "    background-color: var(--disabled-bg-color);\n",
              "    fill: var(--disabled-fill-color);\n",
              "    box-shadow: none;\n",
              "  }\n",
              "\n",
              "  .colab-df-spinner {\n",
              "    border: 2px solid var(--fill-color);\n",
              "    border-color: transparent;\n",
              "    border-bottom-color: var(--fill-color);\n",
              "    animation:\n",
              "      spin 1s steps(1) infinite;\n",
              "  }\n",
              "\n",
              "  @keyframes spin {\n",
              "    0% {\n",
              "      border-color: transparent;\n",
              "      border-bottom-color: var(--fill-color);\n",
              "      border-left-color: var(--fill-color);\n",
              "    }\n",
              "    20% {\n",
              "      border-color: transparent;\n",
              "      border-left-color: var(--fill-color);\n",
              "      border-top-color: var(--fill-color);\n",
              "    }\n",
              "    30% {\n",
              "      border-color: transparent;\n",
              "      border-left-color: var(--fill-color);\n",
              "      border-top-color: var(--fill-color);\n",
              "      border-right-color: var(--fill-color);\n",
              "    }\n",
              "    40% {\n",
              "      border-color: transparent;\n",
              "      border-right-color: var(--fill-color);\n",
              "      border-top-color: var(--fill-color);\n",
              "    }\n",
              "    60% {\n",
              "      border-color: transparent;\n",
              "      border-right-color: var(--fill-color);\n",
              "    }\n",
              "    80% {\n",
              "      border-color: transparent;\n",
              "      border-right-color: var(--fill-color);\n",
              "      border-bottom-color: var(--fill-color);\n",
              "    }\n",
              "    90% {\n",
              "      border-color: transparent;\n",
              "      border-bottom-color: var(--fill-color);\n",
              "    }\n",
              "  }\n",
              "</style>\n",
              "\n",
              "  <script>\n",
              "    async function quickchart(key) {\n",
              "      const quickchartButtonEl =\n",
              "        document.querySelector('#' + key + ' button');\n",
              "      quickchartButtonEl.disabled = true;  // To prevent multiple clicks.\n",
              "      quickchartButtonEl.classList.add('colab-df-spinner');\n",
              "      try {\n",
              "        const charts = await google.colab.kernel.invokeFunction(\n",
              "            'suggestCharts', [key], {});\n",
              "      } catch (error) {\n",
              "        console.error('Error during call to suggestCharts:', error);\n",
              "      }\n",
              "      quickchartButtonEl.classList.remove('colab-df-spinner');\n",
              "      quickchartButtonEl.classList.add('colab-df-quickchart-complete');\n",
              "    }\n",
              "    (() => {\n",
              "      let quickchartButtonEl =\n",
              "        document.querySelector('#df-86abe3cb-e3f5-43a3-b108-c22158151847 button');\n",
              "      quickchartButtonEl.style.display =\n",
              "        google.colab.kernel.accessAllowed ? 'block' : 'none';\n",
              "    })();\n",
              "  </script>\n",
              "</div>\n",
              "\n",
              "  <div id=\"id_1cd29fd1-5b53-4246-a923-d27e13bf6e82\">\n",
              "    <style>\n",
              "      .colab-df-generate {\n",
              "        background-color: #E8F0FE;\n",
              "        border: none;\n",
              "        border-radius: 50%;\n",
              "        cursor: pointer;\n",
              "        display: none;\n",
              "        fill: #1967D2;\n",
              "        height: 32px;\n",
              "        padding: 0 0 0 0;\n",
              "        width: 32px;\n",
              "      }\n",
              "\n",
              "      .colab-df-generate:hover {\n",
              "        background-color: #E2EBFA;\n",
              "        box-shadow: 0px 1px 2px rgba(60, 64, 67, 0.3), 0px 1px 3px 1px rgba(60, 64, 67, 0.15);\n",
              "        fill: #174EA6;\n",
              "      }\n",
              "\n",
              "      [theme=dark] .colab-df-generate {\n",
              "        background-color: #3B4455;\n",
              "        fill: #D2E3FC;\n",
              "      }\n",
              "\n",
              "      [theme=dark] .colab-df-generate:hover {\n",
              "        background-color: #434B5C;\n",
              "        box-shadow: 0px 1px 3px 1px rgba(0, 0, 0, 0.15);\n",
              "        filter: drop-shadow(0px 1px 2px rgba(0, 0, 0, 0.3));\n",
              "        fill: #FFFFFF;\n",
              "      }\n",
              "    </style>\n",
              "    <button class=\"colab-df-generate\" onclick=\"generateWithVariable('corr')\"\n",
              "            title=\"Generate code using this dataframe.\"\n",
              "            style=\"display:none;\">\n",
              "\n",
              "  <svg xmlns=\"http://www.w3.org/2000/svg\" height=\"24px\"viewBox=\"0 0 24 24\"\n",
              "       width=\"24px\">\n",
              "    <path d=\"M7,19H8.4L18.45,9,17,7.55,7,17.6ZM5,21V16.75L18.45,3.32a2,2,0,0,1,2.83,0l1.4,1.43a1.91,1.91,0,0,1,.58,1.4,1.91,1.91,0,0,1-.58,1.4L9.25,21ZM18.45,9,17,7.55Zm-12,3A5.31,5.31,0,0,0,4.9,8.1,5.31,5.31,0,0,0,1,6.5,5.31,5.31,0,0,0,4.9,4.9,5.31,5.31,0,0,0,6.5,1,5.31,5.31,0,0,0,8.1,4.9,5.31,5.31,0,0,0,12,6.5,5.46,5.46,0,0,0,6.5,12Z\"/>\n",
              "  </svg>\n",
              "    </button>\n",
              "    <script>\n",
              "      (() => {\n",
              "      const buttonEl =\n",
              "        document.querySelector('#id_1cd29fd1-5b53-4246-a923-d27e13bf6e82 button.colab-df-generate');\n",
              "      buttonEl.style.display =\n",
              "        google.colab.kernel.accessAllowed ? 'block' : 'none';\n",
              "\n",
              "      buttonEl.onclick = () => {\n",
              "        google.colab.notebook.generateWithVariable('corr');\n",
              "      }\n",
              "      })();\n",
              "    </script>\n",
              "  </div>\n",
              "\n",
              "    </div>\n",
              "  </div>\n"
            ],
            "application/vnd.google.colaboratory.intrinsic+json": {
              "type": "dataframe",
              "variable_name": "corr",
              "summary": "{\n  \"name\": \"corr\",\n  \"rows\": 9,\n  \"fields\": [\n    {\n      \"column\": \"num_reactions\",\n      \"properties\": {\n        \"dtype\": \"number\",\n        \"std\": 0.362157730486941,\n        \"min\": 0.07513801038987965,\n        \"max\": 1.0,\n        \"num_unique_values\": 9,\n        \"samples\": [\n          0.07513801038987965,\n          0.15084290344217685,\n          0.267751819344167\n        ],\n        \"semantic_type\": \"\",\n        \"description\": \"\"\n      }\n    },\n    {\n      \"column\": \"num_comments\",\n      \"properties\": {\n        \"dtype\": \"number\",\n        \"std\": 0.2951350858713699,\n        \"min\": 0.10168703564349904,\n        \"max\": 1.0,\n        \"num_unique_values\": 9,\n        \"samples\": [\n          0.23645268309154027,\n          1.0,\n          0.16239398973775485\n        ],\n        \"semantic_type\": \"\",\n        \"description\": \"\"\n      }\n    },\n    {\n      \"column\": \"num_shares\",\n      \"properties\": {\n        \"dtype\": \"number\",\n        \"std\": 0.2905959107612399,\n        \"min\": 0.1724919296148002,\n        \"max\": 1.0,\n        \"num_unique_values\": 9,\n        \"samples\": [\n          0.19996996552172647,\n          0.6406374068011963,\n          0.40762785549136354\n        ],\n        \"semantic_type\": \"\",\n        \"description\": \"\"\n      }\n    },\n    {\n      \"column\": \"num_likes\",\n      \"properties\": {\n        \"dtype\": \"number\",\n        \"std\": 0.38360114396184586,\n        \"min\": 0.052168838646190194,\n        \"max\": 1.0,\n        \"num_unique_values\": 9,\n        \"samples\": [\n          0.052168838646190194,\n          0.10168703564349904,\n          0.20779976090068356\n        ],\n        \"semantic_type\": \"\",\n        \"description\": \"\"\n      }\n    },\n    {\n      \"column\": \"num_loves\",\n      \"properties\": {\n        \"dtype\": \"number\",\n        \"std\": 0.2686503221116748,\n        \"min\": 0.20760019307362543,\n        \"max\": 1.0,\n        \"num_unique_values\": 9,\n        \"samples\": [\n          0.20760019307362543,\n          0.5212234891502097,\n          0.5087980414684735\n        ],\n        \"semantic_type\": \"\",\n        \"description\": \"\"\n      }\n    },\n    {\n      \"column\": \"num_wows\",\n      \"properties\": {\n        \"dtype\": \"number\",\n        \"std\": 0.27708794864653524,\n        \"min\": 0.08650272144472029,\n        \"max\": 1.0,\n        \"num_unique_values\": 9,\n        \"samples\": [\n          0.08650272144472029,\n          0.16239398973775485,\n          1.0\n        ],\n        \"semantic_type\": \"\",\n        \"description\": \"\"\n      }\n    },\n    {\n      \"column\": \"num_hahas\",\n      \"properties\": {\n        \"dtype\": \"number\",\n        \"std\": 0.273798026094137,\n        \"min\": 0.12078383089651429,\n        \"max\": 1.0,\n        \"num_unique_values\": 9,\n        \"samples\": [\n          0.1414208565759546,\n          0.3250479949133863,\n          0.2877561935043077\n        ],\n        \"semantic_type\": \"\",\n        \"description\": \"\"\n      }\n    },\n    {\n      \"column\": \"num_sads\",\n      \"properties\": {\n        \"dtype\": \"number\",\n        \"std\": 0.29273603097509526,\n        \"min\": 0.052168838646190194,\n        \"max\": 1.0,\n        \"num_unique_values\": 9,\n        \"samples\": [\n          1.0,\n          0.23645268309154027,\n          0.08650272144472029\n        ],\n        \"semantic_type\": \"\",\n        \"description\": \"\"\n      }\n    },\n    {\n      \"column\": \"num_angrys\",\n      \"properties\": {\n        \"dtype\": \"number\",\n        \"std\": 0.2790634797738819,\n        \"min\": 0.08743065165514326,\n        \"max\": 1.0,\n        \"num_unique_values\": 9,\n        \"samples\": [\n          0.14207247191169492,\n          0.22518436557356583,\n          0.1830865102630871\n        ],\n        \"semantic_type\": \"\",\n        \"description\": \"\"\n      }\n    }\n  ]\n}"
            }
          },
          "metadata": {},
          "execution_count": 5
        }
      ],
      "source": [
        "corr=df.iloc[:,3:12].corr(method='pearson')\n",
        "corr"
      ]
    },
    {
      "cell_type": "markdown",
      "source": [
        "**From the above matrix, we can conclude that, all the correlations are in the positive direction and their strength can be observed as:**\n",
        "\n",
        "**The correlations having value closer to 1 are considered as strong, whereas the correlations having value closer to 0 are considered as weak.**\n",
        "\n",
        "**For example:**\n",
        "\n",
        "*   Correlation between num_comments and num_reactions has value 0.150843\twhich is close to 0, and thus it's weak.\n",
        "*   Correlation between num_likes and num_reactions has value 0.994923\t\twhich is close to 1, and thus it's strong.\n",
        "\n"
      ],
      "metadata": {
        "id": "csHF_TQ64pyL"
      }
    },
    {
      "cell_type": "markdown",
      "source": [
        "# Training a K-means Clustering Model"
      ],
      "metadata": {
        "id": "JkZFf3Zp6CPj"
      }
    },
    {
      "cell_type": "markdown",
      "source": [
        "**Firstly, we need to determine the value of K. Let's first take a random value to make a model(P.S. We will calculate the optimum value later and use it)."
      ],
      "metadata": {
        "id": "q35frjWM6PD_"
      }
    },
    {
      "cell_type": "code",
      "source": [
        "X=df.iloc[:,3:12].values\n",
        "kmeans=KMeans(n_clusters=3,init='k-means++',random_state=42)\n",
        "y_kmeans=kmeans.fit_predict(X)\n"
      ],
      "metadata": {
        "colab": {
          "base_uri": "https://localhost:8080/"
        },
        "id": "eQ1r4_Fh6lYM",
        "outputId": "b34d1fd1-ce29-4a73-d683-014ae8b5b9fb"
      },
      "execution_count": 6,
      "outputs": [
        {
          "output_type": "stream",
          "name": "stderr",
          "text": [
            "/usr/local/lib/python3.10/dist-packages/sklearn/cluster/_kmeans.py:870: FutureWarning: The default value of `n_init` will change from 10 to 'auto' in 1.4. Set the value of `n_init` explicitly to suppress the warning\n",
            "  warnings.warn(\n"
          ]
        }
      ]
    },
    {
      "cell_type": "markdown",
      "source": [
        "# Elbow Method for calculating Optimum number of Clusters"
      ],
      "metadata": {
        "id": "qxxORcNP8tio"
      }
    },
    {
      "cell_type": "code",
      "source": [
        "wcss=[]\n",
        "for i in range(1,11):\n",
        "  kmeans=KMeans(n_clusters=i,init='k-means++',random_state=42)\n",
        "  kmeans.fit(X)\n",
        "  wcss+=[kmeans.inertia_]"
      ],
      "metadata": {
        "colab": {
          "base_uri": "https://localhost:8080/"
        },
        "id": "OCcQ8-HB7VNy",
        "outputId": "7ab56647-ed12-4736-a9e0-aee87a0e2271"
      },
      "execution_count": 7,
      "outputs": [
        {
          "output_type": "stream",
          "name": "stderr",
          "text": [
            "/usr/local/lib/python3.10/dist-packages/sklearn/cluster/_kmeans.py:870: FutureWarning: The default value of `n_init` will change from 10 to 'auto' in 1.4. Set the value of `n_init` explicitly to suppress the warning\n",
            "  warnings.warn(\n",
            "/usr/local/lib/python3.10/dist-packages/sklearn/cluster/_kmeans.py:870: FutureWarning: The default value of `n_init` will change from 10 to 'auto' in 1.4. Set the value of `n_init` explicitly to suppress the warning\n",
            "  warnings.warn(\n",
            "/usr/local/lib/python3.10/dist-packages/sklearn/cluster/_kmeans.py:870: FutureWarning: The default value of `n_init` will change from 10 to 'auto' in 1.4. Set the value of `n_init` explicitly to suppress the warning\n",
            "  warnings.warn(\n",
            "/usr/local/lib/python3.10/dist-packages/sklearn/cluster/_kmeans.py:870: FutureWarning: The default value of `n_init` will change from 10 to 'auto' in 1.4. Set the value of `n_init` explicitly to suppress the warning\n",
            "  warnings.warn(\n",
            "/usr/local/lib/python3.10/dist-packages/sklearn/cluster/_kmeans.py:870: FutureWarning: The default value of `n_init` will change from 10 to 'auto' in 1.4. Set the value of `n_init` explicitly to suppress the warning\n",
            "  warnings.warn(\n",
            "/usr/local/lib/python3.10/dist-packages/sklearn/cluster/_kmeans.py:870: FutureWarning: The default value of `n_init` will change from 10 to 'auto' in 1.4. Set the value of `n_init` explicitly to suppress the warning\n",
            "  warnings.warn(\n",
            "/usr/local/lib/python3.10/dist-packages/sklearn/cluster/_kmeans.py:870: FutureWarning: The default value of `n_init` will change from 10 to 'auto' in 1.4. Set the value of `n_init` explicitly to suppress the warning\n",
            "  warnings.warn(\n",
            "/usr/local/lib/python3.10/dist-packages/sklearn/cluster/_kmeans.py:870: FutureWarning: The default value of `n_init` will change from 10 to 'auto' in 1.4. Set the value of `n_init` explicitly to suppress the warning\n",
            "  warnings.warn(\n",
            "/usr/local/lib/python3.10/dist-packages/sklearn/cluster/_kmeans.py:870: FutureWarning: The default value of `n_init` will change from 10 to 'auto' in 1.4. Set the value of `n_init` explicitly to suppress the warning\n",
            "  warnings.warn(\n",
            "/usr/local/lib/python3.10/dist-packages/sklearn/cluster/_kmeans.py:870: FutureWarning: The default value of `n_init` will change from 10 to 'auto' in 1.4. Set the value of `n_init` explicitly to suppress the warning\n",
            "  warnings.warn(\n"
          ]
        }
      ]
    },
    {
      "cell_type": "code",
      "source": [
        "plt.plot(range(1,11),wcss)\n",
        "plt.xlabel('Number of Clusters(K)')\n",
        "plt.ylabel('WCSS')\n",
        "plt.title('Elbow Method')\n",
        "plt.show()"
      ],
      "metadata": {
        "colab": {
          "base_uri": "https://localhost:8080/",
          "height": 472
        },
        "id": "WzP7a7gb9Cx1",
        "outputId": "2f5d9557-2671-4f3f-de23-e24825264979"
      },
      "execution_count": 8,
      "outputs": [
        {
          "output_type": "display_data",
          "data": {
            "text/plain": [
              "<Figure size 640x480 with 1 Axes>"
            ],
            "image/png": "[encoded data removed]"
          },
          "metadata": {}
        }
      ]
    },
    {
      "cell_type": "markdown",
      "source": [
        "** As we can observe from the plot, that After K=5, the WCSS decreases slowly. Thus, K=5 is the Optimum value for K. **"
      ],
      "metadata": {
        "id": "nEwxY0_C9PqT"
      }
    },
    {
      "cell_type": "markdown",
      "source": [
        "# Training the model with K=5"
      ],
      "metadata": {
        "id": "vjzZzFhB9g2o"
      }
    },
    {
      "cell_type": "code",
      "source": [
        "X=df.iloc[:,3:12].values\n",
        "kmeans=KMeans(n_clusters=5,init='k-means++',random_state=42)\n",
        "y_kmeans=kmeans.fit_predict(X)"
      ],
      "metadata": {
        "colab": {
          "base_uri": "https://localhost:8080/"
        },
        "id": "slsILeKK9xeP",
        "outputId": "f4b877c7-8acf-47b0-e8fa-6b9f043f4f87"
      },
      "execution_count": 9,
      "outputs": [
        {
          "output_type": "stream",
          "name": "stderr",
          "text": [
            "/usr/local/lib/python3.10/dist-packages/sklearn/cluster/_kmeans.py:870: FutureWarning: The default value of `n_init` will change from 10 to 'auto' in 1.4. Set the value of `n_init` explicitly to suppress the warning\n",
            "  warnings.warn(\n"
          ]
        }
      ]
    },
    {
      "cell_type": "markdown",
      "source": [
        "# Count of Each Cluster"
      ],
      "metadata": {
        "id": "K3d7DuPn-vg7"
      }
    },
    {
      "cell_type": "code",
      "source": [
        "print(\"Count of Elements in Cluster 1:\",list(y_kmeans).count(0))\n",
        "print(\"Count of Elements in Cluster 2:\",list(y_kmeans).count(1))\n",
        "print(\"Count of Elements in Cluster 3:\",list(y_kmeans).count(2))\n",
        "print(\"Count of Elements in Cluster 4:\",list(y_kmeans).count(3))\n",
        "print(\"Count of Elements in Cluster 5:\",list(y_kmeans).count(4))"
      ],
      "metadata": {
        "colab": {
          "base_uri": "https://localhost:8080/"
        },
        "id": "ngkrU3b6-yrM",
        "outputId": "f2b424dd-c7f1-4e28-cacd-fc68946cec99"
      },
      "execution_count": 10,
      "outputs": [
        {
          "output_type": "stream",
          "name": "stdout",
          "text": [
            "Count of Elements in Cluster 1: 410\n",
            "Count of Elements in Cluster 2: 6111\n",
            "Count of Elements in Cluster 3: 105\n",
            "Count of Elements in Cluster 4: 413\n",
            "Count of Elements in Cluster 5: 11\n"
          ]
        }
      ]
    },
    {
      "cell_type": "markdown",
      "source": [
        "# Average values of metrics in each Cluster"
      ],
      "metadata": {
        "id": "QaSWXZNb_lxS"
      }
    },
    {
      "cell_type": "code",
      "source": [
        "print(\"Cluster 1:\")\n",
        "print(\"Average Value of num_reaction:\",np.mean(X[y_kmeans==0,0]))\n",
        "print(\"Average Value of num_comments:\",np.mean(X[y_kmeans==0,1]))\n",
        "print(\"Average Value of num_shares:\",np.mean(X[y_kmeans==0,2]))\n",
        "print(\"\\nCluster 2:\")\n",
        "print(\"Average Value of num_reaction:\",np.mean(X[y_kmeans==1,0]))\n",
        "print(\"Average Value of num_comments:\",np.mean(X[y_kmeans==1,1]))\n",
        "print(\"Average Value of num_shares:\",np.mean(X[y_kmeans==1,2]))\n",
        "print(\"\\nCluster 3:\")\n",
        "print(\"Average Value of num_reaction:\",np.mean(X[y_kmeans==2,0]))\n",
        "print(\"Average Value of num_comments:\",np.mean(X[y_kmeans==2,1]))\n",
        "print(\"Average Value of num_shares:\",np.mean(X[y_kmeans==2,2]))\n",
        "print(\"\\nCluster 4:\")\n",
        "print(\"Average Value of num_reaction:\",np.mean(X[y_kmeans==3,0]))\n",
        "print(\"Average Value of num_comments:\",np.mean(X[y_kmeans==3,1]))\n",
        "print(\"Average Value of num_shares:\",np.mean(X[y_kmeans==3,2]))\n",
        "print(\"\\nCluster 5:\")\n",
        "print(\"Average Value of num_reaction:\",np.mean(X[y_kmeans==4,0]))\n",
        "print(\"Average Value of num_comments:\",np.mean(X[y_kmeans==4,1]))\n",
        "print(\"Average Value of num_shares:\",np.mean(X[y_kmeans==4,2]))"
      ],
      "metadata": {
        "colab": {
          "base_uri": "https://localhost:8080/"
        },
        "id": "oOWen8Jc_5yd",
        "outputId": "f049a78f-90e2-45b1-c963-e449fa811ed6"
      },
      "execution_count": 13,
      "outputs": [
        {
          "output_type": "stream",
          "name": "stdout",
          "text": [
            "Cluster 1:\n",
            "Average Value of num_reaction: 1777.7073170731708\n",
            "Average Value of num_comments: 114.21463414634147\n",
            "Average Value of num_shares: 34.96829268292683\n",
            "\n",
            "Cluster 2:\n",
            "Average Value of num_reaction: 105.15987563410243\n",
            "Average Value of num_comments: 44.72312223858616\n",
            "Average Value of num_shares: 12.956635575192276\n",
            "\n",
            "Cluster 3:\n",
            "Average Value of num_reaction: 498.93333333333334\n",
            "Average Value of num_comments: 5004.961904761904\n",
            "Average Value of num_shares: 463.85714285714283\n",
            "\n",
            "Cluster 4:\n",
            "Average Value of num_reaction: 465.2857142857143\n",
            "Average Value of num_comments: 1443.2445520581114\n",
            "Average Value of num_shares: 323.4648910411622\n",
            "\n",
            "Cluster 5:\n",
            "Average Value of num_reaction: 571.1818181818181\n",
            "Average Value of num_comments: 12727.09090909091\n",
            "Average Value of num_shares: 577.0909090909091\n"
          ]
        }
      ]
    }
  ]
}