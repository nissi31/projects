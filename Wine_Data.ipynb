{
  "nbformat": 4,
  "nbformat_minor": 0,
  "metadata": {
    "colab": {
      "provenance": []
    },
    "kernelspec": {
      "name": "python3",
      "display_name": "Python 3"
    },
    "language_info": {
      "name": "python"
    }
  },
  "cells": [
    {
      "cell_type": "markdown",
      "source": [
        "# Importing Libraries"
      ],
      "metadata": {
        "id": "zi4vDb48Sv7L"
      }
    },
    {
      "cell_type": "code",
      "execution_count": 88,
      "metadata": {
        "id": "k64dLFRnSZaB"
      },
      "outputs": [],
      "source": [
        "import numpy as np\n",
        "import pandas as pd\n",
        "import matplotlib.pyplot as plt\n"
      ]
    },
    {
      "cell_type": "markdown",
      "source": [
        "#Importing Dataset"
      ],
      "metadata": {
        "id": "Au1fGmRcTWDA"
      }
    },
    {
      "cell_type": "code",
      "source": [
        "df=pd.read_csv('wine_data.csv')"
      ],
      "metadata": {
        "id": "sIfJgX9DTaJE"
      },
      "execution_count": 89,
      "outputs": []
    },
    {
      "cell_type": "markdown",
      "source": [
        "# Q1"
      ],
      "metadata": {
        "id": "7f49EOJbT4EN"
      }
    },
    {
      "cell_type": "markdown",
      "source": [
        "**Most Frequently occuring wine quality**"
      ],
      "metadata": {
        "id": "3wLq_9LhW754"
      }
    },
    {
      "cell_type": "code",
      "source": [
        "quality=df['quality'].values\n",
        "unique, counts = np.unique(quality, return_counts=True)\n",
        "index = np.argmax(counts)\n",
        "print(\"Most Frequently occuring Wine Quality:\",unique[index])"
      ],
      "metadata": {
        "colab": {
          "base_uri": "https://localhost:8080/"
        },
        "id": "903BGRXPT7Vw",
        "outputId": "9c75880c-768f-41e4-bcc8-47a694dd55a7"
      },
      "execution_count": 90,
      "outputs": [
        {
          "output_type": "stream",
          "name": "stdout",
          "text": [
            "Most Frequently occuring Wine Quality: 5\n"
          ]
        }
      ]
    },
    {
      "cell_type": "markdown",
      "source": [
        "**Min and Max in Quality Column**"
      ],
      "metadata": {
        "id": "cDtD6kmfXIhe"
      }
    },
    {
      "cell_type": "code",
      "source": [
        "print(\"Minimum in Quality Column:\",np.min(quality))\n",
        "print(\"Maximum in Quality Column:\",np.max(quality))"
      ],
      "metadata": {
        "colab": {
          "base_uri": "https://localhost:8080/"
        },
        "id": "PpOI3bYOXOLs",
        "outputId": "696417db-2020-45a9-a2d3-83beeea62ae8"
      },
      "execution_count": 91,
      "outputs": [
        {
          "output_type": "stream",
          "name": "stdout",
          "text": [
            "Minimum in Quality Column: 3\n",
            "Maximum in Quality Column: 8\n"
          ]
        }
      ]
    },
    {
      "cell_type": "markdown",
      "source": [
        "#Q2 Correlations"
      ],
      "metadata": {
        "id": "48CeQ-8tXnh4"
      }
    },
    {
      "cell_type": "markdown",
      "source": [
        "**Fixed Acidity vs quality**"
      ],
      "metadata": {
        "id": "VNdX6lGAYCio"
      }
    },
    {
      "cell_type": "code",
      "source": [
        "corr=np.corrcoef(df['fixed acidity'].values,quality)\n",
        "print(corr)\n"
      ],
      "metadata": {
        "colab": {
          "base_uri": "https://localhost:8080/"
        },
        "id": "6jsvj02BX-XJ",
        "outputId": "b27b0abd-f534-4263-b3a3-e13c0e5e624f"
      },
      "execution_count": 92,
      "outputs": [
        {
          "output_type": "stream",
          "name": "stdout",
          "text": [
            "[[1.         0.12405165]\n",
            " [0.12405165 1.        ]]\n"
          ]
        }
      ]
    },
    {
      "cell_type": "code",
      "source": [
        "plt.scatter(df['fixed acidity'].values,quality,color='red')\n",
        "plt.xlabel('Fixed Acidity')\n",
        "plt.ylabel('Quality')\n",
        "plt.title('Fixed Acidity vs quality')\n",
        "plt.show()"
      ],
      "metadata": {
        "colab": {
          "base_uri": "https://localhost:8080/",
          "height": 472
        },
        "id": "t3F1RuSnYbOy",
        "outputId": "707b78b0-0b66-442f-8f5e-bacb8d16d5f5"
      },
      "execution_count": 93,
      "outputs": [
        {
          "output_type": "display_data",
          "data": {
            "text/plain": [
              "<Figure size 640x480 with 1 Axes>"
            ],
            "image/png": "[encoded data removed]"
          },
          "metadata": {}
        }
      ]
    },
    {
      "cell_type": "markdown",
      "source": [
        "**Alcohol Content vs Quality**"
      ],
      "metadata": {
        "id": "AwWkK_4rZLaN"
      }
    },
    {
      "cell_type": "code",
      "source": [
        "corr=np.corrcoef(df['alcohol'].values,quality)\n",
        "print(corr)\n"
      ],
      "metadata": {
        "colab": {
          "base_uri": "https://localhost:8080/"
        },
        "id": "pFf1h0LXZTPB",
        "outputId": "e10f179e-cdbf-449c-af0b-e0d721e7177e"
      },
      "execution_count": 94,
      "outputs": [
        {
          "output_type": "stream",
          "name": "stdout",
          "text": [
            "[[1.         0.47616632]\n",
            " [0.47616632 1.        ]]\n"
          ]
        }
      ]
    },
    {
      "cell_type": "code",
      "source": [
        "plt.scatter(df['alcohol'].values,quality,color='red')\n",
        "plt.xlabel('Alcohol Content')\n",
        "plt.ylabel('Quality')\n",
        "plt.title('Alcohol Content vs Quality')\n",
        "plt.show()"
      ],
      "metadata": {
        "colab": {
          "base_uri": "https://localhost:8080/",
          "height": 472
        },
        "id": "hGaPJGJ5ZgcO",
        "outputId": "7860ca39-798e-481f-9215-9501265b872e"
      },
      "execution_count": 95,
      "outputs": [
        {
          "output_type": "display_data",
          "data": {
            "text/plain": [
              "<Figure size 640x480 with 1 Axes>"
            ],
            "image/png": "[encoded data removed]"
          },
          "metadata": {}
        }
      ]
    },
    {
      "cell_type": "markdown",
      "source": [
        "**Free Sulfur Dioxide vs Quality**"
      ],
      "metadata": {
        "id": "tUUybwGzaOAk"
      }
    },
    {
      "cell_type": "code",
      "source": [
        "corr=np.corrcoef(df['free sulfur dioxide'].values,quality)\n",
        "print(corr)\n"
      ],
      "metadata": {
        "colab": {
          "base_uri": "https://localhost:8080/"
        },
        "id": "pB4Ph_NVaUHd",
        "outputId": "8d02ada5-5dbd-4e1d-8d94-25bd53a7f26b"
      },
      "execution_count": 96,
      "outputs": [
        {
          "output_type": "stream",
          "name": "stdout",
          "text": [
            "[[ 1.         -0.05065606]\n",
            " [-0.05065606  1.        ]]\n"
          ]
        }
      ]
    },
    {
      "cell_type": "code",
      "source": [
        "plt.scatter(df['free sulfur dioxide'].values,quality,color='red')\n",
        "plt.xlabel('Free Sulfur Dioxide')\n",
        "plt.ylabel('Quality')\n",
        "plt.title('Free Sulfur Dioxide vs Quality')\n",
        "plt.show()"
      ],
      "metadata": {
        "colab": {
          "base_uri": "https://localhost:8080/",
          "height": 472
        },
        "id": "u5H0ZmmuacdF",
        "outputId": "f2d45af9-4239-4cc6-b9a2-29066b569d7f"
      },
      "execution_count": 97,
      "outputs": [
        {
          "output_type": "display_data",
          "data": {
            "text/plain": [
              "<Figure size 640x480 with 1 Axes>"
            ],
            "image/png": "[encoded data removed]"
          },
          "metadata": {}
        }
      ]
    },
    {
      "cell_type": "markdown",
      "source": [
        "#Q3 Average Residual Sugar"
      ],
      "metadata": {
        "id": "kUJT5yMea_Uc"
      }
    },
    {
      "cell_type": "markdown",
      "source": [
        "**For Best Quality Wine**"
      ],
      "metadata": {
        "id": "QXykeQx3dBZ-"
      }
    },
    {
      "cell_type": "code",
      "source": [
        "k=[]\n",
        "max=quality.max()\n",
        "for i in range(len(quality)):\n",
        "  if quality[i]==max:\n",
        "    k+=[i]\n",
        "res_max=df['residual sugar'].values[k]\n",
        "print(\"The average `residual sugar` for the best quality wine:\",res_max.mean())"
      ],
      "metadata": {
        "colab": {
          "base_uri": "https://localhost:8080/"
        },
        "id": "eDvVcG2GbEmf",
        "outputId": "f0ce9fc2-b59c-4756-caca-900ecd3896c1"
      },
      "execution_count": 98,
      "outputs": [
        {
          "output_type": "stream",
          "name": "stdout",
          "text": [
            "The average `residual sugar` for the best quality wine: 2.5777777777777775\n"
          ]
        }
      ]
    },
    {
      "cell_type": "markdown",
      "source": [
        "**For Lowest quality wine**"
      ],
      "metadata": {
        "id": "U1TqnzAQdG03"
      }
    },
    {
      "cell_type": "code",
      "source": [
        "k=[]\n",
        "min=quality.min()\n",
        "for i in range(len(quality)):\n",
        "  if quality[i]==min:\n",
        "    k+=[i]\n",
        "res_min=df['residual sugar'].values[k]\n",
        "print(\"The average `residual sugar` for the lowest quality wine:\",res_min.mean())"
      ],
      "metadata": {
        "colab": {
          "base_uri": "https://localhost:8080/"
        },
        "id": "z-mr-c6ob8hW",
        "outputId": "8aa14478-2192-4a4d-9513-4ee97da1d199"
      },
      "execution_count": 99,
      "outputs": [
        {
          "output_type": "stream",
          "name": "stdout",
          "text": [
            "The average `residual sugar` for the lowest quality wine: 2.6350000000000002\n"
          ]
        }
      ]
    },
    {
      "cell_type": "markdown",
      "source": [
        "#Q4 Effect of Volatile Acidity on Quality"
      ],
      "metadata": {
        "id": "HcTvpiD-dW06"
      }
    },
    {
      "cell_type": "code",
      "source": [
        "corr=np.corrcoef(df['volatile acidity'].values,quality)\n",
        "print(corr)\n"
      ],
      "metadata": {
        "colab": {
          "base_uri": "https://localhost:8080/"
        },
        "id": "BKqx8_RudeG2",
        "outputId": "14b924ca-9fd7-4ab6-8c90-791f52125927"
      },
      "execution_count": 100,
      "outputs": [
        {
          "output_type": "stream",
          "name": "stdout",
          "text": [
            "[[ 1.         -0.39055778]\n",
            " [-0.39055778  1.        ]]\n"
          ]
        }
      ]
    },
    {
      "cell_type": "markdown",
      "source": [
        "**As we can see, that the correlation matrix tells usa that Volatile Acidity does have an effect on the Quality of the wine.**\n",
        "\n",
        "**The direction is negative and the strength is weak, since it is close to 0.**"
      ],
      "metadata": {
        "id": "NyppkQebdvbn"
      }
    },
    {
      "cell_type": "markdown",
      "source": [
        "**Graph**"
      ],
      "metadata": {
        "id": "k53PARLSeLxb"
      }
    },
    {
      "cell_type": "code",
      "source": [
        "plt.scatter(df['volatile acidity'].values,quality,color='red')\n",
        "plt.xlabel('Volatile Acidity')\n",
        "plt.ylabel('Quality')\n",
        "plt.title('Volatile Acidity vs Quality')\n",
        "plt.show()"
      ],
      "metadata": {
        "colab": {
          "base_uri": "https://localhost:8080/",
          "height": 472
        },
        "id": "9LSYAXTReOw8",
        "outputId": "87420652-63d3-4b74-e64a-6aed3b448ac0"
      },
      "execution_count": 101,
      "outputs": [
        {
          "output_type": "display_data",
          "data": {
            "text/plain": [
              "<Figure size 640x480 with 1 Axes>"
            ],
            "image/png": "[encoded data removed]"
          },
          "metadata": {}
        }
      ]
    },
    {
      "cell_type": "markdown",
      "source": [
        "#Q5 Training Model"
      ],
      "metadata": {
        "id": "a7jiT4zXetC-"
      }
    },
    {
      "cell_type": "markdown",
      "source": [
        "**Data Preprocessing**"
      ],
      "metadata": {
        "id": "uu5bpKWtfJyQ"
      }
    },
    {
      "cell_type": "code",
      "source": [
        "X=df.iloc[:,:-1].values\n",
        "y=df.iloc[:,-1].values"
      ],
      "metadata": {
        "id": "nms74eV0ezyF"
      },
      "execution_count": 102,
      "outputs": []
    },
    {
      "cell_type": "code",
      "source": [
        "from sklearn.impute import SimpleImputer\n",
        "imputer=SimpleImputer(missing_values=np.nan, strategy='mean')\n",
        "imputer.fit(X)\n",
        "X=imputer.transform(X)"
      ],
      "metadata": {
        "id": "ofQFsfd6fVtt"
      },
      "execution_count": 103,
      "outputs": []
    },
    {
      "cell_type": "code",
      "source": [
        "from sklearn.model_selection import train_test_split\n",
        "X_train,X_test,y_train,y_test=train_test_split(X,y,test_size=0.25,random_state=0)"
      ],
      "metadata": {
        "id": "BkWdQNTTfOxJ"
      },
      "execution_count": 104,
      "outputs": []
    },
    {
      "cell_type": "code",
      "source": [
        "from sklearn.preprocessing import StandardScaler\n",
        "sc=StandardScaler()\n",
        "X_train=sc.fit_transform(X_train)\n",
        "X_test=sc.transform(X_test)"
      ],
      "metadata": {
        "id": "54MpjezUfnPI"
      },
      "execution_count": 105,
      "outputs": []
    },
    {
      "cell_type": "markdown",
      "source": [
        "#1.Decision-Tree Model"
      ],
      "metadata": {
        "id": "edt3rUookAd7"
      }
    },
    {
      "cell_type": "code",
      "source": [
        "from sklearn.tree import DecisionTreeClassifier\n",
        "classifier=DecisionTreeClassifier(criterion='entropy',random_state=0)\n",
        "classifier.fit(X_train,y_train)\n",
        "y_pred=classifier.predict(X_test)\n"
      ],
      "metadata": {
        "id": "nvLlcT-VkBHV"
      },
      "execution_count": 106,
      "outputs": []
    },
    {
      "cell_type": "markdown",
      "source": [
        "**Confusion matrix and Accuracy Score**"
      ],
      "metadata": {
        "id": "om9K8Jp-kWa9"
      }
    },
    {
      "cell_type": "code",
      "source": [
        "from sklearn.metrics import confusion_matrix, accuracy_score\n",
        "cm=confusion_matrix(y_test,y_pred)\n",
        "print(cm)\n",
        "print(\"Accuracy Score:\",end=\"\")\n",
        "accuracy_score(y_test,y_pred)"
      ],
      "metadata": {
        "colab": {
          "base_uri": "https://localhost:8080/"
        },
        "id": "70TivgRBkfJ9",
        "outputId": "1b6ddf16-353f-41eb-e1e6-41edd5517977"
      },
      "execution_count": 107,
      "outputs": [
        {
          "output_type": "stream",
          "name": "stdout",
          "text": [
            "[[  0   1   1   0   0   0]\n",
            " [  1   3   6   3   1   0]\n",
            " [  3  11 109  39   7   0]\n",
            " [  2   4  35 110  19   0]\n",
            " [  0   1   4  12  20   3]\n",
            " [  0   0   0   1   4   0]]\n",
            "Accuracy Score:"
          ]
        },
        {
          "output_type": "execute_result",
          "data": {
            "text/plain": [
              "0.605"
            ]
          },
          "metadata": {},
          "execution_count": 107
        }
      ]
    },
    {
      "cell_type": "markdown",
      "source": [
        "#2. Random Forest"
      ],
      "metadata": {
        "id": "kwNeZfjmkuhM"
      }
    },
    {
      "cell_type": "code",
      "source": [
        "from sklearn.ensemble import RandomForestClassifier\n",
        "classifier=RandomForestClassifier(n_estimators=20,criterion='entropy',random_state=0)# Taking 20 Decision Trees"
      ],
      "metadata": {
        "id": "jqznJtwMk0NF"
      },
      "execution_count": 108,
      "outputs": []
    },
    {
      "cell_type": "code",
      "source": [
        "classifier.fit(X_train,y_train)\n",
        "y_pred=classifier.predict(X_test)\n",
        "cm=confusion_matrix(y_test,y_pred)\n",
        "print(cm)\n",
        "print(\"Accuracy Score:\",end=\"\")\n",
        "accuracy_score(y_test,y_pred)"
      ],
      "metadata": {
        "colab": {
          "base_uri": "https://localhost:8080/"
        },
        "id": "VKtxikODk8g1",
        "outputId": "21f3ef33-75d1-40ad-d01e-c9133b5b6109"
      },
      "execution_count": 109,
      "outputs": [
        {
          "output_type": "stream",
          "name": "stdout",
          "text": [
            "[[  0   0   1   1   0   0]\n",
            " [  0   0  10   4   0   0]\n",
            " [  0   0 135  31   3   0]\n",
            " [  0   1  35 122  12   0]\n",
            " [  0   0   3  14  21   2]\n",
            " [  0   0   0   2   3   0]]\n",
            "Accuracy Score:"
          ]
        },
        {
          "output_type": "execute_result",
          "data": {
            "text/plain": [
              "0.695"
            ]
          },
          "metadata": {},
          "execution_count": 109
        }
      ]
    },
    {
      "cell_type": "markdown",
      "source": [
        "**As we can observe, that the Accuracy Score for the Random Forest (for 20 decision trees) is more than of a single decision tree.**\n",
        "\n",
        "**Also, we observe that as we increase the number of decision trees, the accuracy increases**"
      ],
      "metadata": {
        "id": "Ue2Sn7RUlUjT"
      }
    }
  ]
}